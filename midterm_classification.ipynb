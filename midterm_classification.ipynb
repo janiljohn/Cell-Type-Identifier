{
  "cells": [
    {
      "cell_type": "code",
      "execution_count": null,
      "metadata": {
        "colab": {
          "base_uri": "https://localhost:8080/"
        },
        "id": "N_6z2POI6xit",
        "outputId": "22c15a3e-0b3f-4e98-c58b-bcff59538806"
      },
      "outputs": [
        {
          "name": "stdout",
          "output_type": "stream",
          "text": [
            "Drive already mounted at /content/drive; to attempt to forcibly remount, call drive.mount(\"/content/drive\", force_remount=True).\n"
          ]
        }
      ],
      "source": [
        "from google.colab import drive\n",
        "import numpy as np\n",
        "import matplotlib.pyplot as plt\n",
        "import pandas as pd\n",
        "from sklearn.model_selection import train_test_split\n",
        "from sklearn.preprocessing import StandardScaler\n",
        "from sklearn.metrics import confusion_matrix, accuracy_score\n",
        "\n",
        "drive.mount('/content/drive')"
      ]
    },
    {
      "cell_type": "code",
      "execution_count": null,
      "metadata": {
        "id": "jVdojWcm8ZvN"
      },
      "outputs": [],
      "source": [
        "dataset = pd.read_csv('/Data_classification.csv')\n",
        "X = dataset.iloc[:, :-1].values\n",
        "y = dataset.iloc[:, -1].values"
      ]
    },
    {
      "cell_type": "code",
      "execution_count": null,
      "metadata": {
        "id": "9kVBY-qZ9581"
      },
      "outputs": [],
      "source": [
        "X_train, X_test, y_train, y_test = train_test_split(X, y, test_size= 0.25, random_state=0)"
      ]
    },
    {
      "cell_type": "code",
      "execution_count": null,
      "metadata": {
        "id": "IVIQKZQg91gK"
      },
      "outputs": [],
      "source": [
        "sc = StandardScaler()\n",
        "X_train = sc.fit_transform(X_train)\n",
        "X_test = sc.transform(X_test)"
      ]
    },
    {
      "cell_type": "code",
      "execution_count": null,
      "metadata": {
        "colab": {
          "base_uri": "https://localhost:8080/"
        },
        "id": "c20M1hu2UAKE",
        "outputId": "a4a76b26-5f85-4ff6-f76f-d1b66f58bced"
      },
      "outputs": [
        {
          "name": "stdout",
          "output_type": "stream",
          "text": [
            "Confusion Matrix:\n",
            "[[103   4]\n",
            " [  5  59]]\n",
            "Accuracy Score:\n"
          ]
        },
        {
          "data": {
            "text/plain": [
              "0.9473684210526315"
            ]
          },
          "execution_count": 12,
          "metadata": {},
          "output_type": "execute_result"
        }
      ],
      "source": [
        "# Logistic Regression\n",
        "\n",
        "from sklearn.linear_model import LogisticRegression\n",
        "logistic_regressor = LogisticRegression(random_state=0)\n",
        "logistic_regressor.fit(X_train, y_train)\n",
        "\n",
        "y_pred = logistic_regressor.predict(X_test)\n",
        "\n",
        "c_matrix = confusion_matrix(y_test, y_pred)\n",
        "print(\"Confusion Matrix:\")\n",
        "print(c_matrix)\n",
        "print(\"Accuracy Score:\")\n",
        "accuracy_score(y_test, y_pred)"
      ]
    },
    {
      "cell_type": "code",
      "execution_count": null,
      "metadata": {
        "colab": {
          "base_uri": "https://localhost:8080/"
        },
        "id": "q2ffQKo77uvm",
        "outputId": "71ccc518-4195-4236-b75d-aa6a68961cc8"
      },
      "outputs": [
        {
          "name": "stdout",
          "output_type": "stream",
          "text": [
            "Confusion Matrix:\n",
            "[[103   4]\n",
            " [  5  59]]\n",
            "Accuracy Score:\n"
          ]
        },
        {
          "data": {
            "text/plain": [
              "0.9473684210526315"
            ]
          },
          "execution_count": 13,
          "metadata": {},
          "output_type": "execute_result"
        }
      ],
      "source": [
        "# K Nearest Neighbors\n",
        "\n",
        "from sklearn.neighbors import KNeighborsClassifier\n",
        "knn_classifier = KNeighborsClassifier(n_neighbors = 5, metric='minkowski', p=2)\n",
        "knn_classifier.fit(X_train, y_train)\n",
        "\n",
        "y_pred = knn_classifier.predict(X_test)\n",
        "\n",
        "c_matrix = confusion_matrix(y_test, y_pred)\n",
        "print(\"Confusion Matrix:\")\n",
        "print(c_matrix)\n",
        "print(\"Accuracy Score:\")\n",
        "accuracy_score(y_test, y_pred)"
      ]
    },
    {
      "cell_type": "code",
      "execution_count": null,
      "metadata": {
        "colab": {
          "base_uri": "https://localhost:8080/"
        },
        "id": "OXl7Ezxp8RNn",
        "outputId": "1cb3fc99-e42c-48e7-82dd-d47c89e6e1f4"
      },
      "outputs": [
        {
          "name": "stdout",
          "output_type": "stream",
          "text": [
            "Confusion Matrix:\n",
            "[[102   5]\n",
            " [  5  59]]\n",
            "Accuracy Score:\n"
          ]
        },
        {
          "data": {
            "text/plain": [
              "0.9415204678362573"
            ]
          },
          "execution_count": 14,
          "metadata": {},
          "output_type": "execute_result"
        }
      ],
      "source": [
        "# Support Vector Machine\n",
        "\n",
        "from sklearn.svm import SVC\n",
        "svm_classifier = SVC(kernel = 'linear', random_state = 0)\n",
        "svm_classifier.fit(X_train, y_train)\n",
        "\n",
        "y_pred = svm_classifier.predict(X_test)\n",
        "\n",
        "c_matrix = confusion_matrix(y_test, y_pred)\n",
        "print(\"Confusion Matrix:\")\n",
        "print(c_matrix)\n",
        "print(\"Accuracy Score:\")\n",
        "accuracy_score(y_test, y_pred)"
      ]
    },
    {
      "cell_type": "code",
      "execution_count": null,
      "metadata": {
        "colab": {
          "base_uri": "https://localhost:8080/"
        },
        "id": "iliCEzNu830-",
        "outputId": "90265f8a-cbed-425e-bb56-4a992da70634"
      },
      "outputs": [
        {
          "name": "stdout",
          "output_type": "stream",
          "text": [
            "Confusion Matrix:\n",
            "[[102   5]\n",
            " [  3  61]]\n",
            "Accuracy Score:\n"
          ]
        },
        {
          "data": {
            "text/plain": [
              "0.9532163742690059"
            ]
          },
          "execution_count": 15,
          "metadata": {},
          "output_type": "execute_result"
        }
      ],
      "source": [
        "# Kernel SVM\n",
        "\n",
        "from sklearn.svm import SVC\n",
        "svm_classifier = SVC(kernel = 'sigmoid', random_state = 0)\n",
        "svm_classifier.fit(X_train, y_train)\n",
        "\n",
        "y_pred = svm_classifier.predict(X_test)\n",
        "\n",
        "c_matrix = confusion_matrix(y_test, y_pred)\n",
        "print(\"Confusion Matrix:\")\n",
        "print(c_matrix)\n",
        "print(\"Accuracy Score:\")\n",
        "accuracy_score(y_test, y_pred)"
      ]
    },
    {
      "cell_type": "code",
      "execution_count": null,
      "metadata": {
        "colab": {
          "base_uri": "https://localhost:8080/"
        },
        "id": "TY9zzfrI9MBs",
        "outputId": "1665cc4b-0b93-4505-fb12-b72baeb6fba0"
      },
      "outputs": [
        {
          "name": "stdout",
          "output_type": "stream",
          "text": [
            "Confusion Matrix:\n",
            "[[103   4]\n",
            " [  3  61]]\n",
            "Accuracy Score:\n"
          ]
        },
        {
          "data": {
            "text/plain": [
              "0.9590643274853801"
            ]
          },
          "execution_count": 16,
          "metadata": {},
          "output_type": "execute_result"
        }
      ],
      "source": [
        "# Decision Tree\n",
        "\n",
        "from sklearn.tree import DecisionTreeClassifier\n",
        "dt_classifier = DecisionTreeClassifier(criterion = 'entropy', random_state = 0)\n",
        "dt_classifier.fit(X_train, y_train)\n",
        "\n",
        "y_pred = dt_classifier.predict(X_test)\n",
        "\n",
        "c_matrix = confusion_matrix(y_test, y_pred)\n",
        "print(\"Confusion Matrix:\")\n",
        "print(c_matrix)\n",
        "print(\"Accuracy Score:\")\n",
        "accuracy_score(y_test, y_pred)"
      ]
    },
    {
      "cell_type": "code",
      "execution_count": null,
      "metadata": {
        "colab": {
          "base_uri": "https://localhost:8080/"
        },
        "id": "knhZZ4ZE9eaU",
        "outputId": "ad8bf7ab-d0c1-41e2-cf93-d7aa44dbd2f8"
      },
      "outputs": [
        {
          "name": "stdout",
          "output_type": "stream",
          "text": [
            "Confusion Matrix:\n",
            "[[102   5]\n",
            " [  6  58]]\n",
            "Accuracy Score:\n"
          ]
        },
        {
          "data": {
            "text/plain": [
              "0.935672514619883"
            ]
          },
          "execution_count": 17,
          "metadata": {},
          "output_type": "execute_result"
        }
      ],
      "source": [
        "# Random Forest\n",
        "\n",
        "from sklearn.ensemble import RandomForestClassifier\n",
        "rt_classifier = RandomForestClassifier(n_estimators = 10, criterion = 'entropy', random_state = 0)\n",
        "rt_classifier.fit(X_train, y_train)\n",
        "\n",
        "y_pred = rt_classifier.predict(X_test)\n",
        "\n",
        "c_matrix = confusion_matrix(y_test, y_pred)\n",
        "print(\"Confusion Matrix:\")\n",
        "print(c_matrix)\n",
        "print(\"Accuracy Score:\")\n",
        "accuracy_score(y_test, y_pred)"
      ]
    },
    {
      "cell_type": "code",
      "execution_count": null,
      "metadata": {
        "colab": {
          "base_uri": "https://localhost:8080/"
        },
        "id": "u6BI6vKG5Q7p",
        "outputId": "6bec4730-50da-4d2a-b119-961d9ace9ca2"
      },
      "outputs": [
        {
          "name": "stdout",
          "output_type": "stream",
          "text": [
            "Confusion Matrix:\n",
            "[[99  8]\n",
            " [ 2 62]]\n",
            "Accuracy Score:\n"
          ]
        },
        {
          "data": {
            "text/plain": [
              "0.9415204678362573"
            ]
          },
          "execution_count": 18,
          "metadata": {},
          "output_type": "execute_result"
        }
      ],
      "source": [
        "# Naive Bayes\n",
        "\n",
        "from sklearn.naive_bayes import GaussianNB\n",
        "naive_bayes_c = GaussianNB()\n",
        "naive_bayes_c.fit(X_train, y_train)\n",
        "\n",
        "y_pred = naive_bayes_c.predict(X_test)\n",
        "\n",
        "c_matrix = confusion_matrix(y_test, y_pred)\n",
        "print(\"Confusion Matrix:\")\n",
        "print(c_matrix)\n",
        "print(\"Accuracy Score:\")\n",
        "accuracy_score(y_test, y_pred)"
      ]
    }
  ],
  "metadata": {
    "colab": {
      "provenance": []
    },
    "kernelspec": {
      "display_name": "Python 3",
      "name": "python3"
    },
    "language_info": {
      "name": "python"
    }
  },
  "nbformat": 4,
  "nbformat_minor": 0
}
